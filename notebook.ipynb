{
 "cells": [
  {
   "cell_type": "markdown",
   "id": "fdd37ad0-3128-447a-a4b0-c839e93a7387",
   "metadata": {},
   "source": [
    "# Data Overview \n",
    "\n",
    "Refer: https://www.kaggle.com/c/facebook-recruiting-iii-keyword-extraction/data\n",
    "\n",
    "All of the data is in 2 files: Train and Test.\n",
    "\n",
    "Train.csv contains 4 columns: Id,Title,Body,Tags.\n",
    "\n",
    "Test.csv contains the same columns but without the Tags, which you are to predict.\n",
    "\n",
    "Number of rows in Train.csv = 6034195\n",
    "\n",
    "\n",
    "\n",
    "\n",
    "Data Field Explaination:\n",
    "\n",
    "The columns in the table are:\n",
    "\n",
    "Id - Unique identifier for each question\n",
    "\n",
    "Title - The question's title\n",
    "\n",
    "Body - The body of the question\n",
    "\n",
    "Tags - The tags associated with the question in a space-seperated format (all lowercase, should not contain tabs '\\t' or ampersands '&')\n",
    "\n",
    "\n",
    "## Example Data point \n",
    "\n",
    "Title:  Implementing Boundary Value Analysis of Software Testing in a C++ program?\n",
    "Body : \n",
    "\n",
    "        #include<\n",
    "        iostream>\\n\n",
    "        #include<\n",
    "        stdlib.h>\\n\\n\n",
    "        using namespace std;\\n\\n\n",
    "        int main()\\n\n",
    "        {\\n\n",
    "                 int n,a[n],x,c,u[n],m[n],e[n][4];\\n         \n",
    "                 cout<<\"Enter the number of variables\";\\n         cin>>n;\\n\\n         \n",
    "                 cout<<\"Enter the Lower, and Upper Limits of the variables\";\\n         \n",
    "                 for(int y=1; y<n+1; y++)\\n         \n",
    "                 {\\n                 \n",
    "                    cin>>m[y];\\n                 \n",
    "                    cin>>u[y];\\n         \n",
    "                 }\\n         \n",
    "                 for(x=1; x<n+1; x++)\\n         \n",
    "                 {\\n                 \n",
    "                    a[x] = (m[x] + u[x])/2;\\n         \n",
    "                 }\\n         \n",
    "                 c=(n*4)-4;\\n         \n",
    "                 for(int a1=1; a1<n+1; a1++)\\n         \n",
    "                 {\\n\\n             \n",
    "                    e[a1][0] = m[a1];\\n             \n",
    "                    e[a1][1] = m[a1]+1;\\n             \n",
    "                    e[a1][2] = u[a1]-1;\\n             \n",
    "                    e[a1][3] = u[a1];\\n         \n",
    "                 }\\n         \n",
    "                 for(int i=1; i<n+1; i++)\\n         \n",
    "                 {\\n            \n",
    "                    for(int l=1; l<=i; l++)\\n            \n",
    "                    {\\n                 \n",
    "                        if(l!=1)\\n                 \n",
    "                        {\\n                    \n",
    "                            cout<<a[l]<<\"\\\\t\";\\n                 \n",
    "                        }\\n            \n",
    "                    }\\n            \n",
    "                    for(int j=0; j<4; j++)\\n            \n",
    "                    {\\n                \n",
    "                        cout<<e[i][j];\\n                \n",
    "                        for(int k=0; k<n-(i+1); k++)\\n                \n",
    "                        {\\n                    \n",
    "                            cout<<a[k]<<\"\\\\t\";\\n               \n",
    "                        }\\n                \n",
    "                        cout<<\"\\\\n\";\\n            \n",
    "                    }\\n        \n",
    "                 }    \\n\\n        \n",
    "                 system(\"PAUSE\");\\n        \n",
    "                 return 0;    \\n\n",
    "        }\\n\n",
    "        \n",
    "\\n\\n\n",
    "    <p>The answer should come in the form of a table like</p>\\n\\n\n",
    "    <pre><code>       \n",
    "    1            50              50\\n       \n",
    "    2            50              50\\n       \n",
    "    99           50              50\\n       \n",
    "    100          50              50\\n       \n",
    "    50           1               50\\n       \n",
    "    50           2               50\\n       \n",
    "    50           99              50\\n       \n",
    "    50           100             50\\n       \n",
    "    50           50              1\\n       \n",
    "    50           50              2\\n       \n",
    "    50           50              99\\n       \n",
    "    50           50              100\\n\n",
    "    </code></pre>\\n\\n\n",
    "    <p>if the no of inputs is 3 and their ranges are\\n\n",
    "    1,100\\n\n",
    "    1,100\\n\n",
    "    1,100\\n\n",
    "    (could be varied too)</p>\\n\\n\n",
    "    <p>The output is not coming,can anyone correct the code or tell me what\\'s wrong?</p>\\n'\n",
    "\n",
    "Tags : 'c++ c'"
   ]
  },
  {
   "cell_type": "markdown",
   "id": "80404474-7942-4c1a-9695-3ecf596e689a",
   "metadata": {},
   "source": [
    "# It's Multi-label Classification problem.\n",
    "\n",
    "### Performance Metric:\n",
    "\n",
    "- In the multi-class and multi-label case, this is the weighted average of the F1 score of each class.\n",
    "- I have been tried ( Micro f1 score - Macro f1 score) This is a better metrics when we have class imbalance.\n",
    "\n",
    "### Loss Function:\n",
    "\n",
    "- Hamming Loss."
   ]
  },
  {
   "cell_type": "markdown",
   "id": "b55a9dca-d2bf-4971-a930-e2ab06eb661d",
   "metadata": {},
   "source": [
    "# Import Liberaries."
   ]
  },
  {
   "cell_type": "code",
   "execution_count": 1,
   "id": "31f15e55-3f80-4b23-94ad-1a9ec5bc4e89",
   "metadata": {},
   "outputs": [],
   "source": [
    "import warnings\n",
    "warnings.filterwarnings(\"ignore\")\n",
    "\n",
    "import pandas as pd\n",
    "import sqlite3\n",
    "import csv\n",
    "import matplotlib.pyplot as plt\n",
    "import seaborn as sns\n",
    "import numpy as np\n",
    "from collections import Counter\n",
    "from itertools import combinations\n",
    "from wordcloud import WordCloud\n",
    "import re\n",
    "import os\n",
    "from sqlalchemy import create_engine # database connection\n",
    "import datetime as dt\n",
    "import nltk\n",
    "from nltk.corpus import stopwords\n",
    "from nltk.tokenize import word_tokenize\n",
    "from nltk.stem.snowball import SnowballStemmer\n",
    "from sklearn.feature_extraction.text import CountVectorizer\n",
    "from sklearn.feature_extraction.text import TfidfVectorizer\n",
    "om sklearn.model_selection import cross_val_score\n",
    "from sklearn.linear_model import SGDClassifier\n",
    "from sklearn.multiclass import OneVsRestClassifier\n",
    "from sklearn.svm import LinearSVC\n",
    "from sklearn.tree import DecisionTreeClassifier\n",
    "from skmultilearn.problem_transform import LabelPowerset\n",
    "from sklearn.metrics import make_scorer, f1_score, precision_score,recall_score\n",
    "from sklearn.pipeline import make_pipeline\n",
    "from sklearn import svm\n",
    "from sklearn.linear_model import LogisticRegression\n",
    "from skmultilearn.adapt import mlknn\n",
    "from skmultilearn.problem_transform import ClassifierChain\n",
    "from skmultilearn.problem_transform import BinaryRelevance\n",
    "from skmultilearn.problem_transform import LabelPowerset\n",
    "from sklearn.naive_bayes import GaussianNB\n",
    "from datetime import datetime"
   ]
  },
  {
   "cell_type": "markdown",
   "id": "6cde8694-c8ad-459e-9baa-11ffc7d72076",
   "metadata": {},
   "source": [
    "# Data Loading and Cleaning using SqLite with pandas "
   ]
  },
  {
   "cell_type": "code",
   "execution_count": 2,
   "id": "f7a9ed05-5e9a-4764-b7c4-901cac876d81",
   "metadata": {
    "tags": []
   },
   "outputs": [],
   "source": [
    "# Create db File from csv file.\n",
    "if not os.path.isfile('train.db'):\n",
    "    disk_engine = create_engine('sqlite:///train.db')\n",
    "    chunksize = 180000\n",
    "    j = 0\n",
    "    index_start = 1\n",
    "    for df in pd.read_csv('Train.csv', names=['Id','Title','Body','Tags'], chunksize= chunksize , iterator=True, encoding='utf-8'):\n",
    "        df.index += index_start\n",
    "        j += 1\n",
    "        print('{} rows'.format(j*chunksize))\n",
    "        df.to_sql('data', disk_engine, if_exists='append')\n",
    "        index_start = df.index[-1] + 1"
   ]
  },
  {
   "cell_type": "markdown",
   "id": "ff9df9b0-9688-4e5c-a0dd-480ada24468f",
   "metadata": {},
   "source": [
    "# Count the numbers of rows"
   ]
  },
  {
   "cell_type": "code",
   "execution_count": 3,
   "id": "20a39713-c0bc-4282-b33c-d40f2f6a67b3",
   "metadata": {},
   "outputs": [
    {
     "name": "stdout",
     "output_type": "stream",
     "text": [
      "Number of rows in the database : \n",
      " 6034196\n"
     ]
    }
   ],
   "source": [
    "if os.path.isfile('train.db'):\n",
    "\n",
    "    conn = sqlite3.connect('train.db')\n",
    "    num_rows = pd.read_sql_query(\"\"\"SELECT count(*) FROM data\"\"\", conn)\n",
    "    print(\"Number of rows in the database :\",\"\\n\",num_rows['count(*)'].values[0])\n",
    "    conn.close()\n",
    "    \n",
    "else:\n",
    "    print(\"Please download the data.db file from drive or run the above cell to genarate data.db file\")"
   ]
  },
  {
   "cell_type": "markdown",
   "id": "de896d65-6965-4721-8935-c6b92f2d98f2",
   "metadata": {},
   "source": [
    "# Check for  duplicates if exit"
   ]
  },
  {
   "cell_type": "code",
   "execution_count": 4,
   "id": "d0be9ff8-78ca-4716-bf1e-9f9f070dccc2",
   "metadata": {},
   "outputs": [
    {
     "name": "stdout",
     "output_type": "stream",
     "text": [
      "Number of duplicate rows: 1827881\n"
     ]
    }
   ],
   "source": [
    "if os.path.isfile('data.db'):\n",
    "    \n",
    "    conn = sqlite3.connect('data.db')\n",
    "    df = pd.read_sql_query('SELECT Title, Body, Tags FROM data', conn)\n",
    "    conn.close()\n",
    "    duplicates = df.duplicated()\n",
    "\n",
    "    # Count the number of duplicates\n",
    "    num_duplicates = duplicates.sum()\n",
    "    \n",
    "    print(f\"Number of duplicate rows: {num_duplicates}\")\n",
    "    # drop duplicates\n",
    "    df_no_dup = df.drop_duplicates(subset=['Title', 'Body', 'Tags'])\n",
    "\n",
    "else:\n",
    "    print(\"Please download the train.db file from drive or run the first to generate train.db file\")\n"
   ]
  },
  {
   "cell_type": "code",
   "execution_count": 5,
   "id": "63a4059f-bf97-4db6-8955-2d01f16512f6",
   "metadata": {},
   "outputs": [
    {
     "data": {
      "text/html": [
       "<div>\n",
       "<style scoped>\n",
       "    .dataframe tbody tr th:only-of-type {\n",
       "        vertical-align: middle;\n",
       "    }\n",
       "\n",
       "    .dataframe tbody tr th {\n",
       "        vertical-align: top;\n",
       "    }\n",
       "\n",
       "    .dataframe thead th {\n",
       "        text-align: right;\n",
       "    }\n",
       "</style>\n",
       "<table border=\"1\" class=\"dataframe\">\n",
       "  <thead>\n",
       "    <tr style=\"text-align: right;\">\n",
       "      <th></th>\n",
       "      <th>Title</th>\n",
       "      <th>Body</th>\n",
       "      <th>Tags</th>\n",
       "    </tr>\n",
       "  </thead>\n",
       "  <tbody>\n",
       "    <tr>\n",
       "      <th>0</th>\n",
       "      <td>Title</td>\n",
       "      <td>Body</td>\n",
       "      <td>Tags</td>\n",
       "    </tr>\n",
       "    <tr>\n",
       "      <th>1</th>\n",
       "      <td>How to check if an uploaded file is an image w...</td>\n",
       "      <td>&lt;p&gt;I'd like to check if an uploaded file is an...</td>\n",
       "      <td>php image-processing file-upload upload mime-t...</td>\n",
       "    </tr>\n",
       "    <tr>\n",
       "      <th>2</th>\n",
       "      <td>How can I prevent firefox from closing when I ...</td>\n",
       "      <td>&lt;p&gt;In my favorite editor (vim), I regularly us...</td>\n",
       "      <td>firefox</td>\n",
       "    </tr>\n",
       "    <tr>\n",
       "      <th>3</th>\n",
       "      <td>R Error Invalid type (list) for variable</td>\n",
       "      <td>&lt;p&gt;I am import matlab file and construct a dat...</td>\n",
       "      <td>r matlab machine-learning</td>\n",
       "    </tr>\n",
       "    <tr>\n",
       "      <th>4</th>\n",
       "      <td>How do I replace special characters in a URL?</td>\n",
       "      <td>&lt;p&gt;This is probably very simple, but I simply ...</td>\n",
       "      <td>c# url encoding</td>\n",
       "    </tr>\n",
       "  </tbody>\n",
       "</table>\n",
       "</div>"
      ],
      "text/plain": [
       "                                               Title  \\\n",
       "0                                              Title   \n",
       "1  How to check if an uploaded file is an image w...   \n",
       "2  How can I prevent firefox from closing when I ...   \n",
       "3           R Error Invalid type (list) for variable   \n",
       "4      How do I replace special characters in a URL?   \n",
       "\n",
       "                                                Body  \\\n",
       "0                                               Body   \n",
       "1  <p>I'd like to check if an uploaded file is an...   \n",
       "2  <p>In my favorite editor (vim), I regularly us...   \n",
       "3  <p>I am import matlab file and construct a dat...   \n",
       "4  <p>This is probably very simple, but I simply ...   \n",
       "\n",
       "                                                Tags  \n",
       "0                                               Tags  \n",
       "1  php image-processing file-upload upload mime-t...  \n",
       "2                                            firefox  \n",
       "3                          r matlab machine-learning  \n",
       "4                                    c# url encoding  "
      ]
     },
     "execution_count": 5,
     "metadata": {},
     "output_type": "execute_result"
    }
   ],
   "source": [
    "df_no_dup.head()"
   ]
  },
  {
   "cell_type": "code",
   "execution_count": 7,
   "id": "9577fdc2-5a47-40f7-976f-5989bff5bc14",
   "metadata": {},
   "outputs": [
    {
     "data": {
      "text/html": [
       "<div>\n",
       "<style scoped>\n",
       "    .dataframe tbody tr th:only-of-type {\n",
       "        vertical-align: middle;\n",
       "    }\n",
       "\n",
       "    .dataframe tbody tr th {\n",
       "        vertical-align: top;\n",
       "    }\n",
       "\n",
       "    .dataframe thead th {\n",
       "        text-align: right;\n",
       "    }\n",
       "</style>\n",
       "<table border=\"1\" class=\"dataframe\">\n",
       "  <thead>\n",
       "    <tr style=\"text-align: right;\">\n",
       "      <th></th>\n",
       "      <th>Title</th>\n",
       "      <th>Body</th>\n",
       "      <th>Tags</th>\n",
       "      <th>count_tag</th>\n",
       "    </tr>\n",
       "  </thead>\n",
       "  <tbody>\n",
       "    <tr>\n",
       "      <th>0</th>\n",
       "      <td>Title</td>\n",
       "      <td>Body</td>\n",
       "      <td>Tags</td>\n",
       "      <td>1</td>\n",
       "    </tr>\n",
       "    <tr>\n",
       "      <th>1</th>\n",
       "      <td>How to check if an uploaded file is an image w...</td>\n",
       "      <td>&lt;p&gt;I'd like to check if an uploaded file is an...</td>\n",
       "      <td>php image-processing file-upload upload mime-t...</td>\n",
       "      <td>5</td>\n",
       "    </tr>\n",
       "    <tr>\n",
       "      <th>2</th>\n",
       "      <td>How can I prevent firefox from closing when I ...</td>\n",
       "      <td>&lt;p&gt;In my favorite editor (vim), I regularly us...</td>\n",
       "      <td>firefox</td>\n",
       "      <td>1</td>\n",
       "    </tr>\n",
       "    <tr>\n",
       "      <th>3</th>\n",
       "      <td>R Error Invalid type (list) for variable</td>\n",
       "      <td>&lt;p&gt;I am import matlab file and construct a dat...</td>\n",
       "      <td>r matlab machine-learning</td>\n",
       "      <td>3</td>\n",
       "    </tr>\n",
       "    <tr>\n",
       "      <th>4</th>\n",
       "      <td>How do I replace special characters in a URL?</td>\n",
       "      <td>&lt;p&gt;This is probably very simple, but I simply ...</td>\n",
       "      <td>c# url encoding</td>\n",
       "      <td>3</td>\n",
       "    </tr>\n",
       "  </tbody>\n",
       "</table>\n",
       "</div>"
      ],
      "text/plain": [
       "                                               Title  \\\n",
       "0                                              Title   \n",
       "1  How to check if an uploaded file is an image w...   \n",
       "2  How can I prevent firefox from closing when I ...   \n",
       "3           R Error Invalid type (list) for variable   \n",
       "4      How do I replace special characters in a URL?   \n",
       "\n",
       "                                                Body  \\\n",
       "0                                               Body   \n",
       "1  <p>I'd like to check if an uploaded file is an...   \n",
       "2  <p>In my favorite editor (vim), I regularly us...   \n",
       "3  <p>I am import matlab file and construct a dat...   \n",
       "4  <p>This is probably very simple, but I simply ...   \n",
       "\n",
       "                                                Tags  count_tag  \n",
       "0                                               Tags          1  \n",
       "1  php image-processing file-upload upload mime-t...          5  \n",
       "2                                            firefox          1  \n",
       "3                          r matlab machine-learning          3  \n",
       "4                                    c# url encoding          3  "
      ]
     },
     "execution_count": 7,
     "metadata": {},
     "output_type": "execute_result"
    }
   ],
   "source": [
    "# Before Adding a new feature number of tags per question\n",
    "#First i should handel the missing values befor aplling (split) dunction \n",
    "\n",
    "df_no_dup['Tags'] = df_no_dup['Tags'].fillna('')\n",
    "\n",
    "df_no_dup[\"count_tag\"] = df_no_dup[\"Tags\"].apply(lambda text: len(text.split(\" \")))\n",
    "df_no_dup.head()"
   ]
  },
  {
   "cell_type": "code",
   "execution_count": 8,
   "id": "db272dd7-7b79-4286-8e79-ceee08032d1d",
   "metadata": {},
   "outputs": [
    {
     "data": {
      "text/plain": [
       "3    1206157\n",
       "2    1111706\n",
       "4     814996\n",
       "1     568298\n",
       "5     505158\n",
       "Name: count_tag, dtype: int64"
      ]
     },
     "execution_count": 8,
     "metadata": {},
     "output_type": "execute_result"
    }
   ],
   "source": [
    "df_no_dup.count_tag.value_counts()"
   ]
  },
  {
   "cell_type": "markdown",
   "id": "8d424aa5-ced7-447f-a601-1cbdc3fc79ca",
   "metadata": {},
   "source": [
    "# Save our data with no duplicate "
   ]
  },
  {
   "cell_type": "code",
   "execution_count": 9,
   "id": "6ddc83b9-aad2-446e-a9da-aef01e2ef02a",
   "metadata": {},
   "outputs": [],
   "source": [
    "if not os.path.isfile(\"data_no_dup.db\"):\n",
    "    create_disk = create_engine(\"sqlite:///data_no_dup.db\")\n",
    "    no_dup = pd.DataFrame(df_no_dup, columns=['Titile', 'Body', 'Tags'])\n",
    "    no_dup.to_sql('no_dup_train',create_disk)"
   ]
  },
  {
   "cell_type": "markdown",
   "id": "7f731bd0-9a13-4f27-880e-3c40c52a271a",
   "metadata": {},
   "source": [
    "# Let's make Anlysis for tags  \n",
    "\n",
    "- Count the number of times each tag appears.\n",
    "- Visualize the frequency of top tags.\n",
    "- Analyze tag co-occurrence."
   ]
  },
  {
   "cell_type": "code",
   "execution_count": 10,
   "id": "9ff2c10c-382b-4531-80ad-a4e2e43c6f2c",
   "metadata": {},
   "outputs": [],
   "source": [
    "if os.path.isfile('data_no_dup.db'):\n",
    "    conn = sqlite3.connect('data_no_dup.db')\n",
    "    tags = pd.read_sql_query('SELECT Tags FROM no_dup_train', conn)\n",
    "    conn.close()\n",
    "    \n",
    "    #Drop unwanted coulmn \n",
    "    tags.drop(tags.index[0], inplace=True)\n",
    "    tags.head()\n",
    "\n",
    "else:\n",
    "    print(\"please download the data with no duplicate \")                    "
   ]
  },
  {
   "cell_type": "code",
   "execution_count": 11,
   "id": "44fc6780-1757-442e-a59f-3e3c17e9b77e",
   "metadata": {},
   "outputs": [
    {
     "name": "stdout",
     "output_type": "stream",
     "text": [
      "Number of data points : 4206314\n",
      "Number of unique tags : 42048\n"
     ]
    }
   ],
   "source": [
    "# Count the number of times each tag appears\n",
    "# will tokenize each tag using space.\n",
    "vectorizer = CountVectorizer(tokenizer = lambda x: x.split())\n",
    "tag_dtm = vectorizer.fit_transform(tags['Tags'])\n",
    "df_no_dup['Tags'] = df_no_dup['Tags'].fillna('')\n",
    "print(\"Number of data points :\", tag_dtm.shape[0])\n",
    "print(\"Number of unique tags :\", tag_dtm.shape[1])"
   ]
  },
  {
   "cell_type": "code",
   "execution_count": 24,
   "id": "b844212d-b188-42e7-ab77-080ae02c3bf4",
   "metadata": {},
   "outputs": [
    {
     "data": {
      "image/png": "[encoded data removed]",
      "text/plain": [
       "<Figure size 720x360 with 1 Axes>"
      ]
     },
     "metadata": {
      "needs_background": "light"
     },
     "output_type": "display_data"
    }
   ],
   "source": [
    "counts = pd.DataFrame(tag_dtm.sum(axis=0), columns=list(vectorizer.get_feature_names_out())) \\\n",
    "           .transpose() \\\n",
    "           .rename(columns={0: 'count'}) \\\n",
    "           .sort_values('count', ascending=False)\n",
    "\n",
    "# Visualize the frequency of top (20) tags.\n",
    "top_tags = counts.head(20)\n",
    "plt.figure(figsize=(10,5))\n",
    "sns.barplot(x= top_tags.index,y =top_tags['count'])\n",
    "plt.title('Top 20 tags')\n",
    "plt.xticks(rotation=90)\n",
    "plt.show()"
   ]
  },
  {
   "cell_type": "markdown",
   "id": "7c0bae51-307f-4877-baa4-9a3aeccf3dc4",
   "metadata": {},
   "source": [
    "# Observations:\n",
    "\n",
    "1. Majority of the most frequent tags are programming language.\n",
    "2. C# is the top most frequent programming language.\n",
    "3. Android, IOS, Linux and windows are among the top most frequent operating systems.\n",
    "4. Since some tags occur much more frequenctly than others, Micro-averaged F1-score is the appropriate metric for this probelm."
   ]
  },
  {
   "cell_type": "code",
   "execution_count": 13,
   "id": "36aa6f57-4aaa-47be-9cb9-ae8caf46d450",
   "metadata": {},
   "outputs": [],
   "source": [
    "df_no_dup['Tags'] = df_no_dup['Tags'].fillna('')"
   ]
  },
  {
   "cell_type": "code",
   "execution_count": 18,
   "id": "0cacbd49-9d15-4d41-882b-a67639ab6981",
   "metadata": {},
   "outputs": [
    {
     "name": "stdout",
     "output_type": "stream",
     "text": [
      "                         tags   count\n",
      "10                         c#  770643\n",
      "84                       java  679447\n",
      "2                         php  590962\n",
      "19                 javascript  582992\n",
      "97                     jquery  470198\n",
      "...                       ...     ...\n",
      "41295                  ctrl-c       1\n",
      "39676                  pebble       1\n",
      "31672              virtual-cd       1\n",
      "22602  reportingservices-2000       1\n",
      "41977      angularjs-resource       1\n",
      "\n",
      "[41978 rows x 2 columns]\n"
     ]
    }
   ],
   "source": [
    "# 3. Analyze tag co-occurrence.\n",
    "# This will count the number of times each pair of tags appears together\n",
    "counter = Counter()\n",
    "\n",
    "for tags in df_no_dup['Tags']:\n",
    "    for subset in combinations(set(tags.split()), 2):\n",
    "        counter.update(tuple(sorted(subset)))\n",
    "\n",
    "co_occurrences = pd.DataFrame(counter.items(), columns=['tags', 'count'])\n",
    "co_occurrences = co_occurrences.sort_values('count', ascending=False)\n",
    "\n",
    "print(co_occurrences)"
   ]
  },
  {
   "cell_type": "markdown",
   "id": "a3108a63-d0d4-4ae3-a2f1-3064609e4f2c",
   "metadata": {},
   "source": [
    "# Tags per question\n",
    "\n",
    "1. Show the distribution of the number of tags per question.\n",
    "2. Analyze and visualize the most common tag pairs.\n",
    "3. Use a boxplot to show the variation in the number of tags per question.\n",
    "4. Most Frequent Tags using WordCloud."
   ]
  },
  {
   "cell_type": "code",
   "execution_count": 23,
   "id": "ba120e03-038e-406a-9138-5a2e849b01a6",
   "metadata": {},
   "outputs": [
    {
     "data": {
      "image/png": "[encoded data removed]",
      "text/plain": [
       "<Figure size 432x288 with 1 Axes>"
      ]
     },
     "metadata": {
      "needs_background": "light"
     },
     "output_type": "display_data"
    }
   ],
   "source": [
    "df_no_dup['Num_Tags'] = df_no_dup['Tags'].apply(lambda x: len(x.split()))\n",
    "\n",
    "# 1. Show the distribution of the number of tags per question.\n",
    "sns.histplot(df_no_dup['Num_Tags'], kde=True)\n",
    "plt.title('Distribution of number of tags per question')\n",
    "plt.xlabel('Number of tags')\n",
    "plt.ylabel('Number of questions')\n",
    "plt.show()"
   ]
  },
  {
   "cell_type": "code",
   "execution_count": 25,
   "id": "73359dd2-d811-489e-ba51-9aa9a498c6d6",
   "metadata": {},
   "outputs": [
    {
     "data": {
      "image/png": "[encoded data removed]",
      "text/plain": [
       "<Figure size 720x432 with 1 Axes>"
      ]
     },
     "metadata": {
      "needs_background": "light"
     },
     "output_type": "display_data"
    }
   ],
   "source": [
    "tag_combinations = Counter()\n",
    "\n",
    "for tags in df_no_dup['Tags']:\n",
    "    tags = tags.split()\n",
    "    # get all combinations of tag pairs\n",
    "    for subset in combinations(set(tags), 2):\n",
    "        tag_combinations[tuple(sorted(subset))] += 1\n",
    "\n",
    "# get the 10 most common tag pairs\n",
    "common_tag_pairs = tag_combinations.most_common(10)\n",
    "\n",
    "tag_pairs = [f'{i[0][0]}, {i[0][1]}' for i in common_tag_pairs]  # Using f-strings to concatenate the tag pairs into a single string\n",
    "counts = [i[1] for i in common_tag_pairs]\n",
    "\n",
    "# Create the DataFrame\n",
    "df = pd.DataFrame(list(zip(tag_pairs, counts)), columns=['tag_pairs', 'counts'])\n",
    "\n",
    "# Plot the data\n",
    "plt.figure(figsize=(10, 6))\n",
    "sns.barplot(x='counts', y='tag_pairs', data=df, palette='viridis')\n",
    "plt.title('Most Common Tag Pairs')\n",
    "plt.xlabel('Count')\n",
    "plt.ylabel('Tag Pairs')\n",
    "plt.show()"
   ]
  },
  {
   "cell_type": "markdown",
   "id": "3c0ad097-9e7c-4178-afd7-64c8007f6ee3",
   "metadata": {},
   "source": [
    "# Observation .\n",
    "\n",
    "1. Dominant Tag Pairs: The most common tags are 'javascript' & 'jquery', '.net' & 'c#', 'mysql' & 'php'. This could indicate that these technologies are frequently used together, or the problems in one often require knowledge in the other.\n",
    "\n",
    "2. Language and Framework Correspondence: The pairs like 'javascript' & 'jquery', '.net' & 'c#', 'mysql' & 'php' also indicate that certain programming languages are commonly discussed in the context of their respective frameworks or related technologies.\n",
    "\n",
    "3. Platform Specificity: Pairs like 'ios' & 'iphone', 'android' & 'java', 'ios' & 'objective-c' suggest that questions regarding certain platforms (e.g. iOS, Android) often necessitate specifying the language or the device for a more focused discussion.\n",
    "\n",
    "4. Web Development: The pair 'html' & 'javascript', 'css' & 'html' indicate a significant amount of web development-related discussions on StackOverflow, as these technologies form the backbone of web development."
   ]
  },
  {
   "cell_type": "code",
   "execution_count": 26,
   "id": "e0a99fe3-2aa5-464d-8dac-e212c38105cf",
   "metadata": {},
   "outputs": [
    {
     "data": {
      "image/png": "[encoded data removed]",
      "text/plain": [
       "<Figure size 432x288 with 1 Axes>"
      ]
     },
     "metadata": {
      "needs_background": "light"
     },
     "output_type": "display_data"
    }
   ],
   "source": [
    "# Use a boxplot to show the variation in the number of tags per question\n",
    "sns.boxplot(x=df_no_dup['Num_Tags'])\n",
    "plt.title('Boxplot of number of tags per question')\n",
    "plt.xlabel('Number of tags')\n",
    "plt.show()\n"
   ]
  },
  {
   "cell_type": "code",
   "execution_count": null,
   "id": "eb7e412d-cd6d-4fbd-9074-29ef85053ce5",
   "metadata": {},
   "outputs": [],
   "source": [
    "# 4. Most Frequent Tags using WordCloud\n",
    "from wordcloud import WordCloud\n",
    "\n",
    "tag_data = \" \".join(tag for tag in df_no_dup['Tags'])\n",
    "wordcloud = WordCloud(background_color=\"white\").generate(tag_data)\n",
    "\n",
    "plt.figure(figsize=(10, 5))\n",
    "plt.imshow(wordcloud, interpolation='bilinear')\n",
    "plt.axis(\"off\")\n",
    "plt.title('Most Frequent Tags')\n",
    "plt.show()"
   ]
  },
  {
   "cell_type": "markdown",
   "id": "2ae4dca4-1ec4-44b4-8ee4-c76fe8eb4ea3",
   "metadata": {},
   "source": [
    "# Questions Preprocessing\n",
    "1. I have 4 million question i will use only 0.5 million as a sample.\n",
    "2.  Separate out code-snippets from Body\n",
    "3. Remove Spcial characters from Question title and description (not in code).\n",
    "4. Remove stop words (Except 'C').\n",
    "5. Remove HTML Tags.\n",
    "6. Convert all the characters into small letters.\n",
    "7. Use SnowballStemmer to stem the words .\n",
    "\n",
    "#### Repate Title Three Times to increase performance but i need to take a small sample for RAM Memory Limitization."
   ]
  },
  {
   "cell_type": "code",
   "execution_count": 47,
   "id": "c0822e81-132e-443a-af4a-ac3906205e34",
   "metadata": {},
   "outputs": [],
   "source": [
    "# Take a sample of the data\n",
    "df_sample = df_no_dup.sample(n=500000, random_state=1)"
   ]
  },
  {
   "cell_type": "code",
   "execution_count": 49,
   "id": "386c41a8-46a5-4f7b-8ed5-761f88cd7c56",
   "metadata": {},
   "outputs": [
    {
     "name": "stderr",
     "output_type": "stream",
     "text": [
      "[nltk_data] Downloading package stopwords to C:\\Users\\Mostafa.DESKTOP-\n",
      "[nltk_data]     RG9643T\\AppData\\Roaming\\nltk_data...\n",
      "[nltk_data]   Package stopwords is already up-to-date!\n"
     ]
    }
   ],
   "source": [
    "nltk.download('stopwords')\n",
    "\n",
    "# set English stopwords\n",
    "stop_words = set(stopwords.words('english'))\n",
    "\n",
    "# exclude 'c' from stopwords\n",
    "if 'c' in stop_words:\n",
    "    stop_words.remove('c')\n",
    "#  SnowballStemmer\n",
    "stemmer = SnowballStemmer(\"english\")"
   ]
  },
  {
   "cell_type": "code",
   "execution_count": 50,
   "id": "3d5d2282-9060-4de2-a32e-a0fde808897b",
   "metadata": {},
   "outputs": [],
   "source": [
    "#function to separate code from the body\n",
    "def separate_code(text):\n",
    "    lines = text.split('\\n')\n",
    "    code = []\n",
    "    non_code = []\n",
    "    code_flag = False\n",
    "    for line in lines:\n",
    "        stripped = line.strip()\n",
    "        if stripped == '':\n",
    "            code_flag = not code_flag\n",
    "            continue\n",
    "        (code if code_flag else non_code).append(stripped)\n",
    "    return '\\n'.join(non_code), '\\n'.join(code)"
   ]
  },
  {
   "cell_type": "code",
   "execution_count": 51,
   "id": "45f18302-4efb-476e-9a18-53dfc333fcd9",
   "metadata": {},
   "outputs": [],
   "source": [
    "# Function to clean the text\n",
    "def clean_text(text):\n",
    "    stemmer = SnowballStemmer(\"english\")\n",
    "    stop_words = set(stopwords.words('english'))\n",
    "\n",
    "    # exclude 'c' from stopwords\n",
    "    if 'c' in stop_words:\n",
    "        stop_words.remove('c')\n",
    "        \n",
    "    text = text.lower()\n",
    "    text = re.sub(r'[^a-zA-Z]', ' ', text)\n",
    "    text = \" \".join(stemmer.stem(word) for word in text.split() if word not in stop_words)\n",
    "    return text"
   ]
  },
  {
   "cell_type": "code",
   "execution_count": 53,
   "id": "09e99781-9a4e-496c-8f33-f900e179c614",
   "metadata": {},
   "outputs": [
    {
     "data": {
      "text/html": [
       "<div>\n",
       "<style scoped>\n",
       "    .dataframe tbody tr th:only-of-type {\n",
       "        vertical-align: middle;\n",
       "    }\n",
       "\n",
       "    .dataframe tbody tr th {\n",
       "        vertical-align: top;\n",
       "    }\n",
       "\n",
       "    .dataframe thead th {\n",
       "        text-align: right;\n",
       "    }\n",
       "</style>\n",
       "<table border=\"1\" class=\"dataframe\">\n",
       "  <thead>\n",
       "    <tr style=\"text-align: right;\">\n",
       "      <th></th>\n",
       "      <th>Tags</th>\n",
       "      <th>count_tag</th>\n",
       "      <th>Num_Tags</th>\n",
       "      <th>Code</th>\n",
       "      <th>questions</th>\n",
       "    </tr>\n",
       "  </thead>\n",
       "  <tbody>\n",
       "    <tr>\n",
       "      <th>1295286</th>\n",
       "      <td>testing caching load-testing</td>\n",
       "      <td>3</td>\n",
       "      <td>3</td>\n",
       "      <td>&lt;p&gt;Putting this out there to see how other peo...</td>\n",
       "      <td>test method use privat brows test site without...</td>\n",
       "    </tr>\n",
       "    <tr>\n",
       "      <th>4532524</th>\n",
       "      <td>powershell powershell-provider</td>\n",
       "      <td>2</td>\n",
       "      <td>2</td>\n",
       "      <td>&lt;p&gt;The InitializeDefaultDrives method is calle...</td>\n",
       "      <td>powershel initializedefaultdr powershel initia...</td>\n",
       "    </tr>\n",
       "    <tr>\n",
       "      <th>996498</th>\n",
       "      <td>wpf mvvm wpf-controls</td>\n",
       "      <td>3</td>\n",
       "      <td>3</td>\n",
       "      <td>&lt;pre&gt;&lt;code&gt;&amp;lt;DataGrid ItemsSource=\"{Binding ...</td>\n",
       "      <td>add autocompletebox datagrid add autocompleteb...</td>\n",
       "    </tr>\n",
       "    <tr>\n",
       "      <th>2742797</th>\n",
       "      <td>php debugging zend-framework php5 doctrine</td>\n",
       "      <td>5</td>\n",
       "      <td>5</td>\n",
       "      <td>&lt;pre&gt;&lt;code&gt;protected function _initDoctrine()\\...</td>\n",
       "      <td>init ldap connect like doctrin connect bootstr...</td>\n",
       "    </tr>\n",
       "    <tr>\n",
       "      <th>1928849</th>\n",
       "      <td>iphone uinavigationcontroller uinavigationbar ...</td>\n",
       "      <td>4</td>\n",
       "      <td>4</td>\n",
       "      <td>&lt;p&gt;I am almost looking a day at this!&lt;/p&gt;\\n&lt;pr...</td>\n",
       "      <td>tintcolor uisegmentedcontrol doesnt react tint...</td>\n",
       "    </tr>\n",
       "  </tbody>\n",
       "</table>\n",
       "</div>"
      ],
      "text/plain": [
       "                                                      Tags  count_tag  \\\n",
       "1295286                       testing caching load-testing          3   \n",
       "4532524                     powershell powershell-provider          2   \n",
       "996498                               wpf mvvm wpf-controls          3   \n",
       "2742797         php debugging zend-framework php5 doctrine          5   \n",
       "1928849  iphone uinavigationcontroller uinavigationbar ...          4   \n",
       "\n",
       "         Num_Tags                                               Code  \\\n",
       "1295286         3  <p>Putting this out there to see how other peo...   \n",
       "4532524         2  <p>The InitializeDefaultDrives method is calle...   \n",
       "996498          3  <pre><code>&lt;DataGrid ItemsSource=\"{Binding ...   \n",
       "2742797         5  <pre><code>protected function _initDoctrine()\\...   \n",
       "1928849         4  <p>I am almost looking a day at this!</p>\\n<pr...   \n",
       "\n",
       "                                                 questions  \n",
       "1295286  test method use privat brows test site without...  \n",
       "4532524  powershel initializedefaultdr powershel initia...  \n",
       "996498   add autocompletebox datagrid add autocompleteb...  \n",
       "2742797  init ldap connect like doctrin connect bootstr...  \n",
       "1928849  tintcolor uisegmentedcontrol doesnt react tint...  "
      ]
     },
     "execution_count": 53,
     "metadata": {},
     "output_type": "execute_result"
    }
   ],
   "source": [
    "clean_questions = []\n",
    "codes = []\n",
    "\n",
    "# Process each question\n",
    "for text in df_sample['Body']:\n",
    "    text, code = separate_code(text)\n",
    "    text = clean_text(text)\n",
    "    clean_questions.append(text)\n",
    "    codes.append(code)\n",
    "\n",
    "df_sample['Body'] = clean_questions\n",
    "df_sample['Code'] = codes\n",
    "\n",
    "# cleaning process for the 'Title' column\n",
    "df_sample['Title'] = df_sample['Title'].apply(clean_text)\n",
    "\n",
    "# Combine 'Title' and 'Body' into a  'questions' column\n",
    "df_sample['questions'] = df_sample['Title'] + ' ' + df_sample['Title'] +' '+ df_sample['Title'] + ' ' + df_sample['Body']\n",
    "\n",
    "df_sample = df_sample.drop(['Title', 'Body'], axis=1)\n",
    "\n",
    "df_sample.head()\n"
   ]
  },
  {
   "cell_type": "code",
   "execution_count": 55,
   "id": "67f52aee-249a-4989-b927-a6df09db7391",
   "metadata": {},
   "outputs": [],
   "source": [
    "if not os.path.isfile('final_data.db'):\n",
    "    disk = create_engine(\"sqlite:///final_data.db\")\n",
    "    no_dup = pd.DataFrame(df_sample, columns=['questions', 'Code', 'Tags'])\n",
    "    no_dup.to_sql('final',disk)"
   ]
  },
  {
   "cell_type": "markdown",
   "id": "8289ea34-5869-48c3-9079-2beac7a336f7",
   "metadata": {},
   "source": [
    "# Machine Learning part"
   ]
  },
  {
   "cell_type": "code",
   "execution_count": 2,
   "id": "8d5b2b75-833d-4add-8d8d-75862b122cf6",
   "metadata": {},
   "outputs": [
    {
     "data": {
      "text/html": [
       "<div>\n",
       "<style scoped>\n",
       "    .dataframe tbody tr th:only-of-type {\n",
       "        vertical-align: middle;\n",
       "    }\n",
       "\n",
       "    .dataframe tbody tr th {\n",
       "        vertical-align: top;\n",
       "    }\n",
       "\n",
       "    .dataframe thead th {\n",
       "        text-align: right;\n",
       "    }\n",
       "</style>\n",
       "<table border=\"1\" class=\"dataframe\">\n",
       "  <thead>\n",
       "    <tr style=\"text-align: right;\">\n",
       "      <th></th>\n",
       "      <th>questions</th>\n",
       "      <th>Code</th>\n",
       "      <th>Tags</th>\n",
       "    </tr>\n",
       "  </thead>\n",
       "  <tbody>\n",
       "    <tr>\n",
       "      <th>0</th>\n",
       "      <td>test method use privat brows test site without...</td>\n",
       "      <td>&lt;p&gt;Putting this out there to see how other peo...</td>\n",
       "      <td>testing caching load-testing</td>\n",
       "    </tr>\n",
       "    <tr>\n",
       "      <th>1</th>\n",
       "      <td>powershel initializedefaultdr powershel initia...</td>\n",
       "      <td>&lt;p&gt;The InitializeDefaultDrives method is calle...</td>\n",
       "      <td>powershell powershell-provider</td>\n",
       "    </tr>\n",
       "    <tr>\n",
       "      <th>2</th>\n",
       "      <td>add autocompletebox datagrid add autocompleteb...</td>\n",
       "      <td>&lt;pre&gt;&lt;code&gt;&amp;lt;DataGrid ItemsSource=\"{Binding ...</td>\n",
       "      <td>wpf mvvm wpf-controls</td>\n",
       "    </tr>\n",
       "    <tr>\n",
       "      <th>3</th>\n",
       "      <td>init ldap connect like doctrin connect bootstr...</td>\n",
       "      <td>&lt;pre&gt;&lt;code&gt;protected function _initDoctrine()\\...</td>\n",
       "      <td>php debugging zend-framework php5 doctrine</td>\n",
       "    </tr>\n",
       "    <tr>\n",
       "      <th>4</th>\n",
       "      <td>tintcolor uisegmentedcontrol doesnt react tint...</td>\n",
       "      <td>&lt;p&gt;I am almost looking a day at this!&lt;/p&gt;\\n&lt;pr...</td>\n",
       "      <td>iphone uinavigationcontroller uinavigationbar ...</td>\n",
       "    </tr>\n",
       "  </tbody>\n",
       "</table>\n",
       "</div>"
      ],
      "text/plain": [
       "                                           questions  \\\n",
       "0  test method use privat brows test site without...   \n",
       "1  powershel initializedefaultdr powershel initia...   \n",
       "2  add autocompletebox datagrid add autocompleteb...   \n",
       "3  init ldap connect like doctrin connect bootstr...   \n",
       "4  tintcolor uisegmentedcontrol doesnt react tint...   \n",
       "\n",
       "                                                Code  \\\n",
       "0  <p>Putting this out there to see how other peo...   \n",
       "1  <p>The InitializeDefaultDrives method is calle...   \n",
       "2  <pre><code>&lt;DataGrid ItemsSource=\"{Binding ...   \n",
       "3  <pre><code>protected function _initDoctrine()\\...   \n",
       "4  <p>I am almost looking a day at this!</p>\\n<pr...   \n",
       "\n",
       "                                                Tags  \n",
       "0                       testing caching load-testing  \n",
       "1                     powershell powershell-provider  \n",
       "2                              wpf mvvm wpf-controls  \n",
       "3         php debugging zend-framework php5 doctrine  \n",
       "4  iphone uinavigationcontroller uinavigationbar ...  "
      ]
     },
     "execution_count": 2,
     "metadata": {},
     "output_type": "execute_result"
    }
   ],
   "source": [
    "if os.path.isfile('final_data.db'):\n",
    "    \n",
    "    conn = sqlite3.connect('final_data.db')\n",
    "    df = pd.read_sql_query('SELECT questions, Code, Tags FROM final', conn)\n",
    "    conn.close()\n",
    "    \n",
    "df.head()"
   ]
  },
  {
   "cell_type": "code",
   "execution_count": 10,
   "id": "7017fed6-b620-4111-a41a-42b180e9d2b2",
   "metadata": {},
   "outputs": [
    {
     "data": {
      "text/plain": [
       "500000"
      ]
     },
     "execution_count": 10,
     "metadata": {},
     "output_type": "execute_result"
    }
   ],
   "source": [
    "df.Tags.count()"
   ]
  },
  {
   "cell_type": "code",
   "execution_count": 3,
   "id": "8b05a385-3ea1-4145-a589-2730a5dbbcf7",
   "metadata": {},
   "outputs": [],
   "source": [
    "vectorizer = CountVectorizer(tokenizer = lambda x: x.split(), binary='true')\n",
    "y = vectorizer.fit_transform(df['Tags'])"
   ]
  },
  {
   "cell_type": "code",
   "execution_count": 5,
   "id": "d0494004-42e7-4cc2-a3b8-5eee6ae88232",
   "metadata": {},
   "outputs": [
    {
     "name": "stdout",
     "output_type": "stream",
     "text": [
      "Number of data points in train data : (400000,)\n",
      "Number of data points in test data : (100000,)\n",
      "Number of data points in train data : (400000, 30673)\n",
      "Number of data points in test data : (100000, 30673)\n"
     ]
    }
   ],
   "source": [
    "from sklearn.model_selection import train_test_split\n",
    "\n",
    "x_train, x_test, y_train, y_test = train_test_split(df['questions'], y, test_size=0.2, random_state=42)\n",
    "\n",
    "print(\"Number of data points in train data :\", x_train.shape)\n",
    "print(\"Number of data points in test data :\", x_test.shape)\n",
    "print(\"Number of data points in train data :\", y_train.shape)\n",
    "print(\"Number of data points in test data :\", y_test.shape)"
   ]
  },
  {
   "cell_type": "code",
   "execution_count": 6,
   "id": "7ea7c721-01da-41df-a0f3-17258304f461",
   "metadata": {},
   "outputs": [],
   "source": [
    "# Tfidf\n",
    "vectorizer = TfidfVectorizer(min_df=0.00009, max_features=200000, smooth_idf=True, norm=\"l2\", \n",
    "                             tokenizer = lambda x: x.split(), sublinear_tf=False, ngram_range=(1,3))\n",
    "\n",
    "# Fit and transform the training data\n",
    "x_train = vectorizer.fit_transform(x_train)\n",
    "\n",
    "# Transform the testing data\n",
    "X_test = vectorizer.transform(x_test)"
   ]
  },
  {
   "cell_type": "markdown",
   "id": "a67a9f58-98e5-456c-b29a-05ebd0f2b0ec",
   "metadata": {},
   "source": [
    "You can try all these algorithms below but it's take long time to run, here only use the first one :\n",
    "\n",
    "1. OneVsRest (OvR) strategy with Linear-SVC\n",
    "2. Binary Relevance method with naive Bayes\n",
    "3. OneVsRest with Logistic Regression\n",
    "4. Label Powerset method with Decision Tree"
   ]
  },
  {
   "cell_type": "code",
   "execution_count": null,
   "id": "7ac1f9f6-6ed7-45b7-baad-2b17c5db9dac",
   "metadata": {},
   "outputs": [],
   "source": [
    "from sklearn.model_selection import GridSearchCV\n",
    "\n",
    "parameters = {\n",
    "    \"estimator__C\": [0.01, 0.1, 1],\n",
    "    \"estimator__penalty\": [\"l1\", \"l2\"],\n",
    "}\n",
    "lr = LogisticRegression(solver='saga', multi_class='ovr')\n",
    "clf = OneVsRestClassifier(lr)\n",
    "grid_search_clf = GridSearchCV(clf, parameters)\n",
    "grid_search_clf.fit(x_train, y_train)\n",
    "\n",
    "print(\"Best parameters:\", grid_search_clf.best_params_)\n"
   ]
  },
  {
   "cell_type": "code",
   "execution_count": null,
   "id": "03b879d3-17ec-47e6-8dac-d1f1d98a92d8",
   "metadata": {},
   "outputs": [],
   "source": [
    "ovr_logreg = OneVsRestClassifier(LogisticRegression(solver='lbfgs'))\n",
    "ovr_linearsvc = OneVsRestClassifier(LinearSVC())\n",
    "lp_tree = LabelPowerset(DecisionTreeClassifier())\n",
    "ovr_linearsgd = OneVsRestClassifier(SGDClassifier(loss='hinge', alpha=0.00001, penalty='l1'))\n",
    "\n",
    "models = [ovr_logreg, ovr_linearsvc, lp_tree, ovr_linearsgd]\n",
    "model_names = ['Logistic Regression', 'Linear SVC', 'Label Powerset with Decision Tree', 'SGDClassifier']\n",
    "\n",
    "# Create scorer\n",
    "f1_scorer = make_scorer(f1_score, average='micro')\n",
    "\n",
    "# Apply cross validation\n",
    "for model, name in zip(models, model_names):\n",
    "    pipeline = make_pipeline(model)\n",
    "    scores = cross_val_score(pipeline, X, y, cv=5, scoring=f1_scorer)\n",
    "    print(f\"{name} F1 Score: {scores.mean():.4f} (+/- {scores.std() * 2:.4f})\")"
   ]
  }
 ],
 "metadata": {
  "kernelspec": {
   "display_name": "Python 3 (ipykernel)",
   "language": "python",
   "name": "python3"
  },
  "language_info": {
   "codemirror_mode": {
    "name": "ipython",
    "version": 3
   },
   "file_extension": ".py",
   "mimetype": "text/x-python",
   "name": "python",
   "nbconvert_exporter": "python",
   "pygments_lexer": "ipython3",
   "version": "3.9.12"
  }
 },
 "nbformat": 4,
 "nbformat_minor": 5
}
